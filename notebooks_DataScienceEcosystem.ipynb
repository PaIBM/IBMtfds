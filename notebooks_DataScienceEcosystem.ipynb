{
  "metadata": {
    "language_info": {
      "name": ""
    },
    "kernelspec": {
      "name": "python",
      "display_name": "Python (Pyodide)",
      "language": "python"
    }
  },
  "nbformat_minor": 4,
  "nbformat": 4,
  "cells": [
    {
      "cell_type": "markdown",
      "source": "# Data Science Tools and Ecosystem ",
      "metadata": {}
    },
    {
      "cell_type": "markdown",
      "source": "In this notebook, Data Science Tools and Ecosystem are summarized.",
      "metadata": {}
    },
    {
      "cell_type": "markdown",
      "source": "**Objectives:**\n\n* List popular languages for Data Science\n* List commonly used libraries used by Data Scientists\n* List free Data Science tools\n* Give some examples of evaluating arithmetic expressions in Python",
      "metadata": {}
    },
    {
      "cell_type": "markdown",
      "source": "Some of the popular languages that Data Scientists use are:\n\n1.\tPython: Known for its ease of use and extensive libraries like Pandas, Scikit-learn, TensorFlow, and Matplotlib.\n2.\tR: Popular for statistical modeling and data visualization.\n3.\tSQL: Essential for querying and manipulating data within relational databases.\n4.\tJava: Sometimes used in big data technologies (e.g., Hadoop).\n5.\tSAS: Used in certain industries for statistical analysis.\n6.\tJulia: Gaining popularity for numerical and scientific computing.\n7.\tMATLAB: Often used in engineering and mathematical modeling.\n8.\tScala: Used with Apache Spark for big data processing.\n",
      "metadata": {}
    },
    {
      "cell_type": "markdown",
      "source": "Some of the commonly used libraries used by Data Scientists include:\n\n1.\tPandas: Data manipulation and analysis.\n2.\tNumPy: Numerical computing and support for large arrays and matrices.\n3.\tScikit-learn: Machine learning library with various algorithms for classification, regression, and clustering.\n4.\tMatplotlib: Plotting and visualization.\n5.\tSeaborn: Data visualization based on Matplotlib, with a higher-level interface.\n6.\tTensorFlow: Open-source platform for machine learning, developed by Google.\n7.\tKeras: High-level neural networks API, written in Python and capable of running on top of TensorFlow.\n8.\tPyTorch: Deep learning library developed by Facebook.\n9.\tStatsmodels: Statistical modeling and hypothesis testing.\n10.\tBeautiful Soup: Web scraping library.\n",
      "metadata": {}
    },
    {
      "cell_type": "markdown",
      "source": "# Data Science Tools\n\n| Jupyter Notebook | RStudio | Apache Zeppelin |",
      "metadata": {}
    },
    {
      "cell_type": "code",
      "source": "### Below are a few examples of evaluating arithmetic expressions in Python.\n\n_Addition and Subtraction_\nresult = 5 + 3 - 2\nprint(result)  # Output will be 6\n\n_Multiplication and Division_\nresult = (10 * 2) / 5\nprint(result)  # Output will be 4.0\n\n_Exponentiation and Modulus_\nresult = (3 ** 2) % 5\nprint(result)  # Output will be 4",
      "metadata": {},
      "execution_count": null,
      "outputs": []
    },
    {
      "cell_type": "code",
      "source": "# This a simple arithmetic expression to mutiply then add integers.\n\nresult = (3 * 4) + 5\nprint(result)  # Output will be 17",
      "metadata": {},
      "execution_count": null,
      "outputs": []
    },
    {
      "cell_type": "code",
      "source": "# This will convert 200 minutes to hours by diving by 60.\n\nhours = 200 / 60\nprint(hours)  # Output will be 3.3333",
      "metadata": {},
      "execution_count": null,
      "outputs": []
    },
    {
      "cell_type": "markdown",
      "source": "## Author\nPatrick P.",
      "metadata": {}
    }
  ]
}